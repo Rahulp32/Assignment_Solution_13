{
 "cells": [
  {
   "cell_type": "markdown",
   "id": "7b3879f7-5741-456b-85f9-a181ec9df303",
   "metadata": {},
   "source": [
    "# 13_February_13th_Assignment"
   ]
  },
  {
   "cell_type": "code",
   "execution_count": null,
   "id": "9e89377e-1984-4eaa-9f78-4053c91f9a57",
   "metadata": {},
   "outputs": [],
   "source": []
  },
  {
   "cell_type": "markdown",
   "id": "87d51677-ddb7-4971-ba9f-1050e9d8ca9f",
   "metadata": {},
   "source": [
    "## Q1. Explain why we have to use the Exception class while creating a Custom Exception."
   ]
  },
  {
   "cell_type": "markdown",
   "id": "4def0913-4511-4b26-9d0c-c6852be3e45f",
   "metadata": {},
   "source": [
    "### Answer: When creating a custom exception in Python, it is essential to use the Exception class (or one of its subclasses) as the base class for the custom exception. The Exception class serves as the root for all standard exceptions in Python, providing the necessary attributes and methods for handling errors effectively.\n",
    "### Explanation:\n",
    "\n",
    "    (1). Inheritance of Exception Handling Mechanisms:\n",
    "    By inheriting from the Exception class, the custom exception gains all the built-in attributes and methods (like __str__, args, and __repr__) that allow it to behave like a standard exception. This ensures it integrates seamlessly with Python's exception handling mechanisms, such as try and except.\n",
    "\n",
    "    (2). Consistency with Standard Practices:\n",
    "    Custom exceptions created using the Exception class follow the same interface and structure as built-in exceptions. This makes it easier for other developers to understand and handle these exceptions.\n",
    "\n",
    "    (30). Error Categorization:\n",
    "    Python treats exceptions derived from the Exception class differently from general objects. Custom exceptions can be caught in except blocks alongside standard exceptions.\n",
    "\n",
    "    (4). Ease of Debugging:\n",
    "    Custom exceptions inheriting from the Exception class include helpful methods (e.g., a stack trace) that make debugging simpler by providing context about the error.\n",
    "\n",
    "### Example of Creating and Using a Custom Exception"
   ]
  },
  {
   "cell_type": "code",
   "execution_count": 5,
   "id": "f953984b-a18a-4bf8-be45-f78b62e79bf9",
   "metadata": {},
   "outputs": [
    {
     "name": "stdout",
     "output_type": "stream",
     "text": [
      "Caught an exception: This is a custom error.\n"
     ]
    }
   ],
   "source": [
    "# Custom Exception inheriting from Exception\n",
    "class CustomError(Exception):\n",
    "    def __init__(self, message):\n",
    "        super().__init__(message)  # Pass the message to the base Exception class\n",
    "\n",
    "# Using the Custom Exception\n",
    "try:\n",
    "    raise CustomError(\"This is a custom error.\")\n",
    "except CustomError as e:\n",
    "    print(f\"Caught an exception: {e}\")\n"
   ]
  },
  {
   "cell_type": "markdown",
   "id": "afa69ab7-6b32-4e3a-a926-ac3910f8da09",
   "metadata": {},
   "source": [
    "### What Happens if You Don’t Use the Exception Class?\n",
    "\n",
    "#### If a custom exception does not inherit from the Exception class, it will not behave like a standard exception. For example:\n",
    "\n",
    "    (1). It cannot be caught using except Exception blocks.\n",
    "    (2). It might not provide useful debugging information like the stack trace or error message."
   ]
  },
  {
   "cell_type": "code",
   "execution_count": null,
   "id": "0c3df27d-1273-4208-af4e-81ab32e4f0f4",
   "metadata": {},
   "outputs": [],
   "source": []
  },
  {
   "cell_type": "markdown",
   "id": "c85045fb-3a54-4bbd-b25d-5c860c8ca348",
   "metadata": {},
   "source": [
    "## Q2. Write a python program to print Python Exception Hierarchy."
   ]
  },
  {
   "cell_type": "markdown",
   "id": "bdd2a15f-d855-4a37-93f7-f430d8d4f8c1",
   "metadata": {},
   "source": [
    "### Here’s a Python program that prints the hierarchy of exceptions in Python using the built-in Exception class:"
   ]
  },
  {
   "cell_type": "code",
   "execution_count": 26,
   "id": "9a34698e-8bbc-4929-85eb-8065f07b788c",
   "metadata": {},
   "outputs": [
    {
     "name": "stdout",
     "output_type": "stream",
     "text": [
      "Python Exception Hierarchy:\n",
      "Exception\n",
      "    ArithmeticError\n",
      "        FloatingPointError\n",
      "        OverflowError\n",
      "        ZeroDivisionError\n",
      "            DivisionByZero\n",
      "            DivisionUndefined\n",
      "        DecimalException\n",
      "            Clamped\n",
      "            Rounded\n",
      "                Underflow\n",
      "                Overflow\n",
      "            Inexact\n",
      "                Underflow\n",
      "                Overflow\n",
      "            Subnormal\n",
      "                Underflow\n",
      "            DivisionByZero\n",
      "            FloatOperation\n",
      "            InvalidOperation\n",
      "                ConversionSyntax\n",
      "                DivisionImpossible\n",
      "                DivisionUndefined\n",
      "                InvalidContext\n",
      "    AssertionError\n",
      "    AttributeError\n",
      "        FrozenInstanceError\n",
      "        OptionError\n",
      "    BufferError\n",
      "    EOFError\n",
      "        IncompleteReadError\n",
      "    ImportError\n",
      "        ModuleNotFoundError\n",
      "            PackageNotFoundError\n",
      "        ZipImportError\n",
      "    LookupError\n",
      "        IndexError\n",
      "            AxisError\n",
      "            ArrowIndexError\n",
      "        KeyError\n",
      "            NoSuchKernel\n",
      "            UnknownBackend\n",
      "            UnknownTimeZoneError\n",
      "            ArrowKeyError\n",
      "            OptionError\n",
      "            ZoneInfoNotFoundError\n",
      "            UnsortedIndexError\n",
      "        CodecRegistryError\n",
      "    MemoryError\n",
      "        MemoryError\n",
      "        ArrowMemoryError\n",
      "    NameError\n",
      "        UnboundLocalError\n",
      "        NumExprClobberingError\n",
      "        UndefinedVariableError\n",
      "    OSError\n",
      "        BlockingIOError\n",
      "        ChildProcessError\n",
      "        ConnectionError\n",
      "            BrokenPipeError\n",
      "            ConnectionAbortedError\n",
      "            ConnectionRefusedError\n",
      "            ConnectionResetError\n",
      "                RemoteDisconnected\n",
      "        FileExistsError\n",
      "        FileNotFoundError\n",
      "        InterruptedError\n",
      "            InterruptedSystemCall\n",
      "        IsADirectoryError\n",
      "        NotADirectoryError\n",
      "        PermissionError\n",
      "        ProcessLookupError\n",
      "        TimeoutError\n",
      "        UnsupportedOperation\n",
      "        itimer_error\n",
      "        herror\n",
      "        gaierror\n",
      "        SSLError\n",
      "            SSLCertVerificationError\n",
      "            SSLZeroReturnError\n",
      "            SSLWantWriteError\n",
      "            SSLWantReadError\n",
      "            SSLSyscallError\n",
      "            SSLEOFError\n",
      "        Error\n",
      "            SameFileError\n",
      "        SpecialFileError\n",
      "        ExecError\n",
      "        ReadError\n",
      "        URLError\n",
      "            HTTPError\n",
      "            ContentTooShortError\n",
      "        BadGzipFile\n",
      "        DatabaseError\n",
      "    ReferenceError\n",
      "    RuntimeError\n",
      "        NotImplementedError\n",
      "            ZMQVersionError\n",
      "            StdinNotImplementedError\n",
      "            ArrowNotImplementedError\n",
      "            AbstractMethodError\n",
      "        RecursionError\n",
      "        _DeadlockError\n",
      "        BrokenBarrierError\n",
      "        BrokenExecutor\n",
      "            BrokenThreadPool\n",
      "        SendfileNotAvailableError\n",
      "        BrokenBarrierError\n",
      "        ExtractionError\n",
      "        VariableError\n",
      "        RemovedCommandError\n",
      "        PackageDiscoveryError\n",
      "        TooHardError\n",
      "        PyperclipException\n",
      "            PyperclipWindowsException\n",
      "    StopAsyncIteration\n",
      "    StopIteration\n",
      "    SyntaxError\n",
      "        IndentationError\n",
      "            TabError\n",
      "    SystemError\n",
      "        CodecRegistryError\n",
      "    TypeError\n",
      "        FloatOperation\n",
      "        MultipartConversionError\n",
      "        DTypePromotionError\n",
      "        UFuncTypeError\n",
      "            UFuncTypeError\n",
      "                UFuncTypeError\n",
      "            UFuncTypeError\n",
      "                UFuncTypeError\n",
      "                UFuncTypeError\n",
      "        ArrowTypeError\n",
      "        ApplyTypeError\n",
      "    ValueError\n",
      "        UnicodeError\n",
      "            UnicodeDecodeError\n",
      "            UnicodeEncodeError\n",
      "            UnicodeTranslateError\n",
      "        UnsupportedOperation\n",
      "        JSONDecodeError\n",
      "        SSLCertVerificationError\n",
      "        Error\n",
      "        AddressValueError\n",
      "        NetmaskValueError\n",
      "        UnsupportedDigestmodError\n",
      "        IllegalMonthError\n",
      "        IllegalWeekdayError\n",
      "        ParserError\n",
      "        MessageDefect\n",
      "            NoBoundaryInMultipartDefect\n",
      "            StartBoundaryNotFoundDefect\n",
      "            CloseBoundaryNotFoundDefect\n",
      "            FirstHeaderLineIsContinuationDefect\n",
      "            MisplacedEnvelopeHeaderDefect\n",
      "            MissingHeaderBodySeparatorDefect\n",
      "            MultipartInvariantViolationDefect\n",
      "            InvalidMultipartContentTransferEncodingDefect\n",
      "            UndecodableBytesDefect\n",
      "            InvalidBase64PaddingDefect\n",
      "            InvalidBase64CharactersDefect\n",
      "            InvalidBase64LengthDefect\n",
      "            HeaderDefect\n",
      "                InvalidHeaderDefect\n",
      "                HeaderMissingRequiredValue\n",
      "                NonPrintableDefect\n",
      "                ObsoleteHeaderDefect\n",
      "                NonASCIILocalPartDefect\n",
      "                InvalidDateDefect\n",
      "        ClassNotFound\n",
      "        ClipboardEmpty\n",
      "        MacroToEdit\n",
      "        InvalidFileException\n",
      "        ELFInvalid\n",
      "        InvalidVersion\n",
      "        InvalidName\n",
      "        InvalidWheelFilename\n",
      "        InvalidSdistFilename\n",
      "        InvalidSpecifier\n",
      "        UnequalIterablesError\n",
      "        InvalidMarker\n",
      "        UndefinedComparison\n",
      "        UndefinedEnvironmentName\n",
      "        InvalidRequirement\n",
      "            RequirementParseError\n",
      "        UnequalIterablesError\n",
      "        ELFInvalid\n",
      "        InvalidVersion\n",
      "        InvalidName\n",
      "        InvalidWheelFilename\n",
      "        InvalidSdistFilename\n",
      "        AxisError\n",
      "        LinAlgError\n",
      "        InvalidVersion\n",
      "        ArrowInvalid\n",
      "        OutOfBoundsDatetime\n",
      "        OutOfBoundsTimedelta\n",
      "        DateParseError\n",
      "        IncompatibleFrequency\n",
      "        IntCastingNaNError\n",
      "        NullFrequencyError\n",
      "        UnsupportedFunctionCall\n",
      "        ParserError\n",
      "        EmptyDataError\n",
      "        MergeError\n",
      "        DuplicateLabelError\n",
      "        SettingWithCopyError\n",
      "    Warning\n",
      "        BytesWarning\n",
      "        DeprecationWarning\n",
      "            ProvisionalWarning\n",
      "            ModuleDeprecationWarning\n",
      "        EncodingWarning\n",
      "        FutureWarning\n",
      "            ProvisionalCompleterWarning\n",
      "            MaskedArrayFutureWarning\n",
      "        ImportWarning\n",
      "        PendingDeprecationWarning\n",
      "        ResourceWarning\n",
      "        RuntimeWarning\n",
      "            ProactorSelectorThreadWarning\n",
      "            UnknownTimezoneWarning\n",
      "            PEP440Warning\n",
      "            ComplexWarning\n",
      "            InvalidTZPathWarning\n",
      "        SyntaxWarning\n",
      "        UnicodeWarning\n",
      "        UserWarning\n",
      "            GetPassWarning\n",
      "            FormatterWarning\n",
      "            SetuptoolsWarning\n",
      "                InformationOnly\n",
      "                SetuptoolsDeprecationWarning\n",
      "                    _AmbiguousMarker\n",
      "                    _DeprecatedConfig\n",
      "                    DistDeprecationWarning\n",
      "                _MissingDynamic\n",
      "                _ExperimentalConfiguration\n",
      "                _ToolsTypoInMetadata\n",
      "            VisibleDeprecationWarning\n",
      "            RankWarning\n",
      "            ConversionWarning\n",
      "            RankWarning\n",
      "            CSSWarning\n",
      "        DeprecatedTzFormatWarning\n",
      "        PkgResourcesDeprecationWarning\n",
      "        PerformanceWarning\n",
      "        DtypeWarning\n",
      "        ParserWarning\n",
      "        SettingWithCopyWarning\n",
      "        ChainedAssignmentError\n",
      "        IncompatibilityWarning\n",
      "        AttributeConflictWarning\n",
      "        PossiblePrecisionLoss\n",
      "        ValueLabelTypeMismatch\n",
      "        InvalidColumnName\n",
      "        CategoricalConversionWarning\n",
      "    ExceptionGroup\n",
      "    _OptionError\n",
      "    _Error\n",
      "    error\n",
      "    Error\n",
      "    SubprocessError\n",
      "        CalledProcessError\n",
      "        TimeoutExpired\n",
      "    ArgumentError\n",
      "    error\n",
      "    ZMQBaseError\n",
      "        ZMQError\n",
      "            ContextTerminated\n",
      "            Again\n",
      "            InterruptedSystemCall\n",
      "        ZMQBindError\n",
      "        NotDone\n",
      "    Error\n",
      "    PickleError\n",
      "        PicklingError\n",
      "        UnpicklingError\n",
      "    _Stop\n",
      "    TokenError\n",
      "    StopTokenizing\n",
      "    Error\n",
      "        CancelledError\n",
      "        InvalidStateError\n",
      "    _GiveupOnSendfile\n",
      "    Incomplete\n",
      "    ClassFoundException\n",
      "    EndOfBlock\n",
      "    InvalidStateError\n",
      "    LimitOverrunError\n",
      "    QueueEmpty\n",
      "    QueueFull\n",
      "    TraitError\n",
      "    Empty\n",
      "    Full\n",
      "    error\n",
      "    error\n",
      "    ReturnValueIgnoredError\n",
      "    ArgumentError\n",
      "    ArgumentTypeError\n",
      "    ConfigError\n",
      "        ConfigLoaderError\n",
      "            ArgumentError\n",
      "        ConfigFileNotFound\n",
      "    ConfigurableError\n",
      "        MultipleInstanceError\n",
      "    ApplicationError\n",
      "    InvalidPortNumber\n",
      "    error\n",
      "    LZMAError\n",
      "    RegistryError\n",
      "    _GiveupOnFastCopy\n",
      "    NoIPAddresses\n",
      "    Error\n",
      "    BadZipFile\n",
      "    LargeZipFile\n",
      "    MessageError\n",
      "        MessageParseError\n",
      "            HeaderParseError\n",
      "                _InvalidEwError\n",
      "            BoundaryError\n",
      "        MultipartConversionError\n",
      "        CharsetError\n",
      "    DuplicateKernelError\n",
      "    ErrorDuringImport\n",
      "    NotOneValueFound\n",
      "    CannotEval\n",
      "    OptionError\n",
      "    BdbQuit\n",
      "    Restart\n",
      "    FindCmdError\n",
      "    HomeDirError\n",
      "    ProfileDirError\n",
      "    IPythonCoreError\n",
      "        TryNext\n",
      "        UsageError\n",
      "        StdinNotImplementedError\n",
      "    InputRejected\n",
      "    GetoptError\n",
      "    ErrorToken\n",
      "    PrefilterError\n",
      "    AliasError\n",
      "        InvalidAliasError\n",
      "    Error\n",
      "        InterfaceError\n",
      "        DatabaseError\n",
      "            InternalError\n",
      "            OperationalError\n",
      "            ProgrammingError\n",
      "            IntegrityError\n",
      "            DataError\n",
      "            NotSupportedError\n",
      "    Warning\n",
      "    SpaceInInput\n",
      "    DOMException\n",
      "        IndexSizeErr\n",
      "        DomstringSizeErr\n",
      "        HierarchyRequestErr\n",
      "        WrongDocumentErr\n",
      "        InvalidCharacterErr\n",
      "        NoDataAllowedErr\n",
      "        NoModificationAllowedErr\n",
      "        NotFoundErr\n",
      "        NotSupportedErr\n",
      "        InuseAttributeErr\n",
      "        InvalidStateErr\n",
      "        SyntaxErr\n",
      "        InvalidModificationErr\n",
      "        NamespaceErr\n",
      "        InvalidAccessErr\n",
      "        ValidationErr\n",
      "    ValidationError\n",
      "    EditReadOnlyBuffer\n",
      "    _Retry\n",
      "    InvalidLayoutError\n",
      "    HeightIsUnknownError\n",
      "    GuardRejection\n",
      "    ParserSyntaxError\n",
      "    InternalParseError\n",
      "    _PositionUpdatingFinished\n",
      "    SimpleGetItemNotFound\n",
      "    UncaughtAttributeError\n",
      "    HasNoContext\n",
      "    ParamIssue\n",
      "    _JediError\n",
      "        InternalError\n",
      "        WrongVersion\n",
      "        RefactoringError\n",
      "    OnErrorLeaf\n",
      "    InvalidPythonEnvironment\n",
      "    HTTPException\n",
      "        NotConnected\n",
      "        InvalidURL\n",
      "        UnknownProtocol\n",
      "        UnknownTransferEncoding\n",
      "        UnimplementedFileMode\n",
      "        IncompleteRead\n",
      "        ImproperConnectionState\n",
      "            CannotSendRequest\n",
      "            CannotSendHeader\n",
      "            ResponseNotReady\n",
      "        BadStatusLine\n",
      "            RemoteDisconnected\n",
      "        LineTooLong\n",
      "    InteractivelyDefined\n",
      "    KillEmbedded\n",
      "    Error\n",
      "        NoSuchProcess\n",
      "            ZombieProcess\n",
      "        AccessDenied\n",
      "        TimeoutExpired\n",
      "    ZombieProcessError\n",
      "    KeyReuseError\n",
      "    UnknownKeyError\n",
      "    LeakedCallbackError\n",
      "    BadYieldError\n",
      "    ReturnValueIgnoredError\n",
      "    Return\n",
      "    QueueEmpty\n",
      "    QueueFull\n",
      "    DebuggerInitializationError\n",
      "    ExpatError\n",
      "    Error\n",
      "        ProtocolError\n",
      "        ResponseError\n",
      "        Fault\n",
      "    TarError\n",
      "        ExtractError\n",
      "        ReadError\n",
      "        CompressionError\n",
      "        StreamError\n",
      "        HeaderError\n",
      "            EmptyHeaderError\n",
      "            TruncatedHeaderError\n",
      "            EOFHeaderError\n",
      "            InvalidHeaderError\n",
      "            SubsequentHeaderError\n",
      "        FilterError\n",
      "            AbsolutePathError\n",
      "            OutsideDestinationError\n",
      "            SpecialFileError\n",
      "            AbsoluteLinkError\n",
      "            LinkOutsideDestinationError\n",
      "    ParserSyntaxError\n",
      "    ResolutionError\n",
      "        VersionConflict\n",
      "            ContextualVersionConflict\n",
      "        DistributionNotFound\n",
      "        UnknownExtra\n",
      "    _Error\n",
      "    UnableToResolveVariableException\n",
      "    InvalidTypeInArgsException\n",
      "    DistutilsError\n",
      "        DistutilsModuleError\n",
      "        DistutilsClassError\n",
      "        DistutilsGetoptError\n",
      "        DistutilsArgError\n",
      "        DistutilsFileError\n",
      "        DistutilsOptionError\n",
      "            InvalidConfigError\n",
      "            RemovedConfigError\n",
      "        DistutilsSetupError\n",
      "        DistutilsPlatformError\n",
      "        DistutilsExecError\n",
      "        DistutilsInternalError\n",
      "        DistutilsTemplateError\n",
      "        DistutilsByteCompileError\n",
      "        RemovedCommandError\n",
      "        PackageDiscoveryError\n",
      "    CCompilerError\n",
      "        PreprocessError\n",
      "        CompileError\n",
      "        LibError\n",
      "        LinkError\n",
      "        UnknownFileError\n",
      "    Error\n",
      "        NoSectionError\n",
      "        DuplicateSectionError\n",
      "        DuplicateOptionError\n",
      "        NoOptionError\n",
      "        InterpolationError\n",
      "            InterpolationMissingOptionError\n",
      "            InterpolationSyntaxError\n",
      "            InterpolationDepthError\n",
      "        ParsingError\n",
      "            MissingSectionHeaderError\n",
      "    ConverterError\n",
      "        ConverterLockError\n",
      "    MAError\n",
      "        MaskError\n",
      "    Error\n",
      "        UnknownTimeZoneError\n",
      "        InvalidTimeError\n",
      "            AmbiguousTimeError\n",
      "            NonExistentTimeError\n",
      "    ArrowException\n",
      "        ArrowInvalid\n",
      "        ArrowMemoryError\n",
      "        ArrowKeyError\n",
      "        ArrowTypeError\n",
      "        ArrowNotImplementedError\n",
      "        ArrowCapacityError\n",
      "        ArrowIndexError\n",
      "        ArrowSerializationError\n",
      "        ArrowCancelled\n",
      "    NumbaUtilError\n",
      "    InvalidIndexError\n",
      "    DataError\n",
      "    SpecificationError\n",
      "    IndexingError\n",
      "    PossibleDataLossError\n",
      "    ClosedFileError\n",
      "    LossySetitemError\n",
      "    NoBufferPresent\n",
      "    InvalidComparison\n",
      "    ParseError\n",
      "    TarError\n",
      "        ExtractError\n",
      "        ReadError\n",
      "        CompressionError\n",
      "        StreamError\n",
      "        HeaderError\n",
      "            EmptyHeaderError\n",
      "            TruncatedHeaderError\n",
      "            EOFHeaderError\n",
      "            InvalidHeaderError\n",
      "            SubsequentHeaderError\n",
      "        FilterError\n",
      "            AbsolutePathError\n",
      "            OutsideDestinationError\n",
      "            SpecialFileError\n",
      "            AbsoluteLinkError\n",
      "            LinkOutsideDestinationError\n",
      "    CustomError\n"
     ]
    }
   ],
   "source": [
    "# Program to print Python Exception Hierarchy\n",
    "def print_exception_hierarchy(cls, indent=0):\n",
    "    print(\" \" * indent + cls.__name__)\n",
    "    for subclass in cls.__subclasses__():\n",
    "        print_exception_hierarchy(subclass, indent + 4)\n",
    "\n",
    "# Print the hierarchy starting with the base Exception class\n",
    "print(\"Python Exception Hierarchy:\")\n",
    "print_exception_hierarchy(Exception)\n"
   ]
  },
  {
   "cell_type": "code",
   "execution_count": null,
   "id": "0857f0ea-3f96-4d44-b25f-4425536d8f5b",
   "metadata": {},
   "outputs": [],
   "source": []
  },
  {
   "cell_type": "markdown",
   "id": "c3cbfb74-f57d-446e-98a4-74bf7bf4c6d8",
   "metadata": {},
   "source": [
    "## Q3. What errors are defined in the ArithmeticError class? Explain any two with an example."
   ]
  },
  {
   "cell_type": "markdown",
   "id": "07ff9ec3-9a35-4f5e-b353-e62a8975c171",
   "metadata": {},
   "source": [
    "### The ArithmeticError class is a base class for all errors that occur during arithmetic operations. Its main subclasses include:\n",
    "\n",
    "    (1). ZeroDivisionError: Raised when dividing by zero.\n",
    "    (2). OverflowError: Raised when the result of an arithmetic operation exceeds the limits of the data type.\n",
    "    (3). FloatingPointError: Raised for floating-point errors (rarely used).\n",
    "\n",
    "### Examples:\n",
    "\n",
    "    (1). ZeroDivisionError Example:"
   ]
  },
  {
   "cell_type": "code",
   "execution_count": 16,
   "id": "59bbf3f1-0854-418a-94d4-0c661291578e",
   "metadata": {},
   "outputs": [
    {
     "name": "stdout",
     "output_type": "stream",
     "text": [
      "Caught an error: division by zero\n"
     ]
    }
   ],
   "source": [
    "try:\n",
    "    result = 10 / 0  # Division by zero\n",
    "except ZeroDivisionError as e:\n",
    "    print(f\"Caught an error: {e}\")\n"
   ]
  },
  {
   "cell_type": "markdown",
   "id": "f38d5087-df50-440f-9c5d-dae85c28571b",
   "metadata": {},
   "source": [
    "    (2). OverflowError Example:"
   ]
  },
  {
   "cell_type": "code",
   "execution_count": 19,
   "id": "7f8232c2-b142-414c-99ac-7cb654afd40d",
   "metadata": {},
   "outputs": [
    {
     "name": "stdout",
     "output_type": "stream",
     "text": [
      "Caught an error: math range error\n"
     ]
    }
   ],
   "source": [
    "import math\n",
    "\n",
    "try:\n",
    "    result = math.exp(1000)  # Exponential function with a very large argument\n",
    "except OverflowError as e:\n",
    "    print(f\"Caught an error: {e}\")\n"
   ]
  },
  {
   "cell_type": "markdown",
   "id": "d2f37e37-6f8a-46f7-b6b8-8754414bb8e6",
   "metadata": {},
   "source": [
    "    (3). FloatingPointError is a subclass of the ArithmeticError class in Python. It is raised when a floating-point operation fails due to numerical issues like invalid computations or exceeding floating-point precision.\n",
    "\n",
    "    Note: By default, floating-point operations in Python do not raise FloatingPointError. However, you can configure Python to do so by enabling floating-point error checks using the numpy library or other specific settings.\n",
    "\n",
    "    Example of FloatingPointError"
   ]
  },
  {
   "cell_type": "code",
   "execution_count": 23,
   "id": "108ed628-5b7d-4cf1-8af0-d1a43cdbbef2",
   "metadata": {},
   "outputs": [
    {
     "name": "stdout",
     "output_type": "stream",
     "text": [
      "Caught FloatingPointError: divide by zero encountered in divide\n"
     ]
    }
   ],
   "source": [
    "import numpy as np\n",
    "\n",
    "# Enable floating-point error checks\n",
    "np.seterr(all='raise')  # Raises an error for all floating-point issues\n",
    "\n",
    "try:\n",
    "    # Perform an invalid floating-point operation\n",
    "    result = np.divide(1.0, 0.0)  # Division by zero in floating-point\n",
    "except FloatingPointError as e:\n",
    "    print(f\"Caught FloatingPointError: {e}\")\n"
   ]
  },
  {
   "cell_type": "markdown",
   "id": "45b61a7a-1dd2-40cd-917d-95f2352b1ac3",
   "metadata": {},
   "source": [
    "### Explanation:\n",
    "\n",
    "    (1). ZeroDivisionError:\n",
    "    Occurs when attempting to divide by zero, which is mathematically undefined. For example, 10 / 0 triggers this error.\n",
    "\n",
    "    (2). OverflowError:\n",
    "    Occurs when the result of an arithmetic operation exceeds the representable range of the number. For example, calculating math.exp(1000) attempts to compute an extremely large number, leading to an overflow.\n",
    "\n",
    "    (3). FloatPointError:\n",
    "    np.seterr(all='raise'): Configures NumPy to raise a FloatingPointError when floating-point issues occur, such as division by zero, invalid operations, or overflows."
   ]
  },
  {
   "cell_type": "code",
   "execution_count": null,
   "id": "2effbf3c-d62f-412e-8edc-48e9a00072b7",
   "metadata": {},
   "outputs": [],
   "source": []
  },
  {
   "cell_type": "markdown",
   "id": "0d1e999c-c791-4136-9397-f8e962465a40",
   "metadata": {},
   "source": [
    "## Q4. Why LookupError class is used? Explain with an example KeyError and IndexError."
   ]
  },
  {
   "cell_type": "markdown",
   "id": "59b9fcad-e218-4278-bac8-5b52eea8667f",
   "metadata": {},
   "source": [
    "### LookupError\n",
    "    The LookupError class is a base class for exceptions that occur when a lookup operation (e.g., indexing or key retrieval) fails. It provides a unified way to handle all lookup-related errors, allowing developers to catch errors like KeyError and IndexError more generally.\n",
    "\n",
    "### Purpose of LookupError\n",
    "\n",
    "    (1). Base Class: It serves as the parent class for lookup-related exceptions such as:\n",
    "        *. KeyError: Raised when a dictionary key is not found.\n",
    "        *. IndexError: Raised when attempting to access an index outside the valid range of a sequence.\n",
    "    (2). General Exception Handling: By catching LookupError, you can handle both KeyError and IndexError without specifying them separately.\n",
    "\n",
    "### Examples\n",
    "    1. KeyError Example\n",
    "    Occurs when a key is not found in a dictionary."
   ]
  },
  {
   "cell_type": "code",
   "execution_count": 34,
   "id": "545375fe-d1f2-44c1-b551-92ff1222d886",
   "metadata": {},
   "outputs": [
    {
     "name": "stdout",
     "output_type": "stream",
     "text": [
      "KeyError caught: 'address'\n"
     ]
    }
   ],
   "source": [
    "try:\n",
    "    data = {\"name\": \"Alice\", \"age\": 25}\n",
    "    value = data[\"address\"]  # Key \"address\" does not exist\n",
    "except KeyError as e:\n",
    "    print(f\"KeyError caught: {e}\")\n"
   ]
  },
  {
   "cell_type": "markdown",
   "id": "905761d8-eafb-4bd9-8bfb-22bb395520eb",
   "metadata": {},
   "source": [
    "#### Explanation:\n",
    "    The code tries to access the key \"address\" in the dictionary data, which does not exist, resulting in a KeyError.\n",
    "\n",
    "    2. IndexError Example\n",
    "    Occurs when accessing an index outside the valid range of a list or sequence."
   ]
  },
  {
   "cell_type": "code",
   "execution_count": 37,
   "id": "dd896ba4-e33b-4003-96d3-74d6cb99f160",
   "metadata": {},
   "outputs": [
    {
     "name": "stdout",
     "output_type": "stream",
     "text": [
      "IndexError caught: list index out of range\n"
     ]
    }
   ],
   "source": [
    "try:\n",
    "    items = [10, 20, 30]\n",
    "    value = items[5]  # Index 5 is out of range\n",
    "except IndexError as e:\n",
    "    print(f\"IndexError caught: {e}\")\n"
   ]
  },
  {
   "cell_type": "markdown",
   "id": "0270519e-d6a9-483b-84a3-db1c0bbe8e80",
   "metadata": {},
   "source": [
    "### Explanation:\n",
    "    The code attempts to access the 6th element (index 5) of a list items that contains only 3 elements. This results in an IndexError.\n",
    "\n",
    "#### 3. Using LookupError to Handle Both\n",
    "    Instead of catching KeyError and IndexError individually, you can use LookupError to handle both types of exceptions."
   ]
  },
  {
   "cell_type": "code",
   "execution_count": 40,
   "id": "d7c471d4-009d-4ea3-a4ca-77dae2a5c1fa",
   "metadata": {},
   "outputs": [
    {
     "name": "stdout",
     "output_type": "stream",
     "text": [
      "LookupError caught: 'address'\n"
     ]
    }
   ],
   "source": [
    "try:\n",
    "    data = {\"name\": \"Alice\", \"age\": 25}\n",
    "    print(data[\"address\"])  # KeyError\n",
    "    items = [10, 20, 30]\n",
    "    print(items[5])  # IndexError\n",
    "except LookupError as e:\n",
    "    print(f\"LookupError caught: {e}\")\n"
   ]
  },
  {
   "cell_type": "markdown",
   "id": "adea27f7-aa90-4d6d-815f-78bd554a0c94",
   "metadata": {},
   "source": [
    "### Explanation:\n",
    "    The LookupError base class catches both KeyError and IndexError exceptions, making it useful for generalized exception handling in lookup-related operations."
   ]
  },
  {
   "cell_type": "code",
   "execution_count": null,
   "id": "66ae035f-8fd3-4b8b-a475-faf2807cbd2b",
   "metadata": {},
   "outputs": [],
   "source": []
  },
  {
   "cell_type": "markdown",
   "id": "33466505-f7a1-4a8c-aa8a-c8f3e2676aca",
   "metadata": {},
   "source": [
    "## Q5. Explain ImportError. What is ModuleNotFoundError?"
   ]
  },
  {
   "cell_type": "markdown",
   "id": "2327af7a-a6c5-4806-a506-2d410f3c317f",
   "metadata": {},
   "source": [
    "### 1. ImportError\n",
    "\n",
    "### Definition:\n",
    "    ImportError is raised when a Python program tries to import a module that either:\n",
    "    *. Does not exist.\n",
    "    *. Has an error within its code (like syntax or runtime issues).\n",
    "\n",
    "### Usage:\n",
    "    It is a general exception for all import-related errors in Python\n",
    "\n",
    "### Example of ImportError"
   ]
  },
  {
   "cell_type": "code",
   "execution_count": 55,
   "id": "b54bbc47-e4f7-4ebb-a060-132d3a4f5ebe",
   "metadata": {},
   "outputs": [
    {
     "name": "stdout",
     "output_type": "stream",
     "text": [
      "ImportError caught: No module named 'faulty_module'\n"
     ]
    }
   ],
   "source": [
    "# File: faulty_module.py\n",
    "# Contains code with syntax error\n",
    "def hello():\n",
    "    print(\"Hello\")\n",
    "\n",
    "# Main program\n",
    "try:\n",
    "    import faulty_module  # Faulty code in the module\n",
    "except ImportError as e:\n",
    "    print(f\"ImportError caught: {e}\")\n"
   ]
  },
  {
   "cell_type": "markdown",
   "id": "11aac3e4-4104-40cf-8b99-ff3da736f086",
   "metadata": {},
   "source": [
    "    Explanation:\n",
    "    Here, ImportError is raised because the faulty_module contains a syntax error."
   ]
  },
  {
   "cell_type": "markdown",
   "id": "cc5b2e7e-25e3-429a-a3d0-979aeddc41e3",
   "metadata": {},
   "source": [
    "### 2. ModuleNotFoundError\n",
    "\n",
    "### Definition:\n",
    "    ModuleNotFoundError is a subclass of ImportError, introduced in Python 3.6. It is raised specifically when a module or package cannot be found.\n",
    "\n",
    "#### Difference from ImportError:\n",
    "\n",
    "    ModuleNotFoundError occurs when the module does not exist or cannot be located.\n",
    "    ImportError occurs for other import-related issues, such as a failure during execution of the imported module's code.\n",
    "\n",
    "### Examples\n",
    "    1. Example of ModuleNotFoundError"
   ]
  },
  {
   "cell_type": "code",
   "execution_count": 59,
   "id": "8c26cb05-56ac-4d33-bfb1-5b914b4de1fe",
   "metadata": {},
   "outputs": [
    {
     "name": "stdout",
     "output_type": "stream",
     "text": [
      "ModuleNotFoundError caught: No module named 'non_existent_module'\n"
     ]
    }
   ],
   "source": [
    "try:\n",
    "    import non_existent_module  # Module does not exist\n",
    "except ModuleNotFoundError as e:\n",
    "    print(f\"ModuleNotFoundError caught: {e}\")\n"
   ]
  },
  {
   "cell_type": "markdown",
   "id": "b13b0b79-3fa8-4f82-b6d6-2aa26d3eb200",
   "metadata": {},
   "source": [
    "    Explanation:\n",
    "    The ModuleNotFoundError is raised because the module non_existent_module is not found."
   ]
  },
  {
   "cell_type": "markdown",
   "id": "4b4c0039-04f7-45dc-a2cf-09271dd428e9",
   "metadata": {},
   "source": [
    "### When to Use ModuleNotFoundError and ImportError\n",
    "\n",
    "    Use ModuleNotFoundError to catch errors related to missing modules or packages.\n",
    "    Use ImportError for broader exception handling, covering missing modules and errors within imported modules."
   ]
  },
  {
   "cell_type": "markdown",
   "id": "d7f4801b-4c41-4262-8863-16e8c673074b",
   "metadata": {},
   "source": [
    "\n",
    "### **Summary**\n",
    "\n",
    "| **Feature**               | **ImportError**                         | **ModuleNotFoundError**               |\n",
    "|---------------------------|-----------------------------------------|---------------------------------------|\n",
    "| **Scope**                 | All import-related issues              | Missing modules or packages          |\n",
    "| **Inheritance**           | Base exception                         | Subclass of `ImportError`            |\n",
    "| **Python Version**        | Available in all Python versions       | Introduced in Python 3.6             |\n"
   ]
  },
  {
   "cell_type": "code",
   "execution_count": null,
   "id": "ce4f211d-6a21-4089-aa0f-d69a9f0ff365",
   "metadata": {},
   "outputs": [],
   "source": []
  },
  {
   "cell_type": "markdown",
   "id": "e304a767-417c-4e91-bfd4-c958208002e7",
   "metadata": {},
   "source": [
    "### Q6. List down some best practices for exception handling in python."
   ]
  },
  {
   "cell_type": "markdown",
   "id": "02655d90-3ec3-4e4e-883b-a7fb3c16ae05",
   "metadata": {},
   "source": [
    "    (1). Use Specific Exceptions\n",
    "    Always catch specific exceptions instead of a generic Exception. This makes the code more readable and precise."
   ]
  },
  {
   "cell_type": "code",
   "execution_count": 68,
   "id": "555ed9a5-dc9d-45da-933c-9485333b5827",
   "metadata": {},
   "outputs": [
    {
     "name": "stdout",
     "output_type": "stream",
     "text": [
      "Error: division by zero\n"
     ]
    }
   ],
   "source": [
    "try:\n",
    "    result = 10 / 0\n",
    "except ZeroDivisionError as e:\n",
    "    print(f\"Error: {e}\")  # Catch only division-related errors\n"
   ]
  },
  {
   "cell_type": "markdown",
   "id": "4a1781fa-3496-4e3c-a420-9e3c1fcc421b",
   "metadata": {},
   "source": [
    "    (2). Avoid Catching Base Exception (Exception or BaseException)\n",
    "    Catching the base Exception can hide unexpected errors and make debugging difficult. Only use it when necessary."
   ]
  },
  {
   "cell_type": "code",
   "execution_count": 71,
   "id": "f85e9bef-7809-4535-8e1f-738ee7575ec7",
   "metadata": {},
   "outputs": [
    {
     "name": "stdout",
     "output_type": "stream",
     "text": [
      "ValueError: invalid literal for int() with base 10: 'text'\n"
     ]
    }
   ],
   "source": [
    "try:\n",
    "    result = int(\"text\")\n",
    "except ValueError as e:  # Catch the specific ValueError\n",
    "    print(f\"ValueError: {e}\")\n"
   ]
  },
  {
   "cell_type": "markdown",
   "id": "1d33fe3f-26b5-486a-9c77-c77265c6da5e",
   "metadata": {},
   "source": [
    "    (3). Use finally for Cleanup\n",
    "    Use the finally block to perform cleanup actions like closing files, releasing resources, or disconnecting from databases."
   ]
  },
  {
   "cell_type": "code",
   "execution_count": 76,
   "id": "3dbe06f6-c222-4f01-9da5-04621e48c9a7",
   "metadata": {},
   "outputs": [],
   "source": [
    "try:\n",
    "    file = open(\"example.txt\", \"r\")\n",
    "    content = file.read()\n",
    "except FileNotFoundError as e:\n",
    "    print(f\"File not found: {e}\")\n",
    "finally:\n",
    "    file.close()  # Ensure the file is closed\n"
   ]
  },
  {
   "cell_type": "markdown",
   "id": "d116b5fd-3b0f-4fe7-a273-fd9aad95601e",
   "metadata": {},
   "source": [
    "    (4). Leverage the with Statement\n",
    "    Use with for resource management, as it ensures proper cleanup automatically."
   ]
  },
  {
   "cell_type": "code",
   "execution_count": 81,
   "id": "d08578bf-f212-4fb4-a428-1c27c106a652",
   "metadata": {},
   "outputs": [],
   "source": [
    "try:\n",
    "    with open(\"example.txt\", \"r\") as file:\n",
    "        content = file.read()\n",
    "except FileNotFoundError as e:\n",
    "    print(f\"File not found: {e}\")\n"
   ]
  },
  {
   "cell_type": "markdown",
   "id": "0b697e7c-0b8a-4f90-a357-5328827311a7",
   "metadata": {},
   "source": [
    "    (5). Log Errors Instead of Printing\n",
    "    Use logging to record exceptions for better tracking and debugging."
   ]
  },
  {
   "cell_type": "code",
   "execution_count": 84,
   "id": "71f5d371-a152-487c-a393-0ac11995ceb2",
   "metadata": {},
   "outputs": [
    {
     "name": "stderr",
     "output_type": "stream",
     "text": [
      "ERROR:root:Error occurred: division by zero\n"
     ]
    }
   ],
   "source": [
    "import logging\n",
    "\n",
    "logging.basicConfig(level=logging.ERROR)\n",
    "\n",
    "try:\n",
    "    result = 10 / 0\n",
    "except ZeroDivisionError as e:\n",
    "    logging.error(f\"Error occurred: {e}\")\n"
   ]
  },
  {
   "cell_type": "markdown",
   "id": "9a985002-adb6-4c3e-bf55-78732fc04ab1",
   "metadata": {},
   "source": [
    "    (6). Do Not Suppress Exceptions\n",
    "    Avoid writing empty except blocks, as they can silently hide errors.\n",
    "\n",
    "Bad Practice:"
   ]
  },
  {
   "cell_type": "code",
   "execution_count": 87,
   "id": "ddfa0c2f-1f4b-47f4-aed9-9f22e6aa2783",
   "metadata": {},
   "outputs": [],
   "source": [
    "try:\n",
    "    result = 10 / 0\n",
    "except:\n",
    "    pass  # Silently suppresses the exception\n"
   ]
  },
  {
   "cell_type": "markdown",
   "id": "5fc2663a-d577-423a-8937-6220f57df2da",
   "metadata": {},
   "source": [
    "Good Practice:"
   ]
  },
  {
   "cell_type": "code",
   "execution_count": 90,
   "id": "20fe8926-1512-41d9-935c-62e57e1229ff",
   "metadata": {},
   "outputs": [
    {
     "name": "stdout",
     "output_type": "stream",
     "text": [
      "Error: division by zero\n"
     ]
    }
   ],
   "source": [
    "try:\n",
    "    result = 10 / 0\n",
    "except ZeroDivisionError as e:\n",
    "    print(f\"Error: {e}\")\n"
   ]
  },
  {
   "cell_type": "markdown",
   "id": "1f093784-659f-48c4-81ec-e918d1533ea2",
   "metadata": {},
   "source": [
    "    (7). Raise Exceptions When Necessary\n",
    "    If an error cannot be handled meaningfully in the current context, re-raise it."
   ]
  },
  {
   "cell_type": "code",
   "execution_count": 93,
   "id": "9e85f2d4-787b-4a53-a34e-462769d98fc4",
   "metadata": {},
   "outputs": [],
   "source": [
    "def divide(a, b):\n",
    "    if b == 0:\n",
    "        raise ValueError(\"Division by zero is not allowed\")\n",
    "    return a / b\n"
   ]
  },
  {
   "cell_type": "markdown",
   "id": "d6fd890b-4cd0-40ae-9a64-d44a5887df5b",
   "metadata": {},
   "source": [
    "    (8). Handle Multiple Exceptions Separately\n",
    "    Catch multiple exceptions in different except blocks for clearer error handling."
   ]
  },
  {
   "cell_type": "code",
   "execution_count": 98,
   "id": "76d1c362-94d7-469e-8c67-77a32d9807f6",
   "metadata": {},
   "outputs": [
    {
     "name": "stdout",
     "output_type": "stream",
     "text": [
      "ValueError: invalid literal for int() with base 10: 'text'\n"
     ]
    }
   ],
   "source": [
    "try:\n",
    "    result = int(\"text\")\n",
    "except ValueError as e:\n",
    "    print(f\"ValueError: {e}\")\n",
    "except TypeError as e:\n",
    "    print(f\"TypeError: {e}\")\n"
   ]
  },
  {
   "cell_type": "markdown",
   "id": "521d3c38-abe7-47a0-9419-56378a0b4a11",
   "metadata": {},
   "source": [
    "    (9). Avoid Using Exceptions for Flow Control\n",
    "    Do not use exceptions to control the normal flow of a program. Use conditions instead.\n",
    "\n",
    "    Bad Practice:"
   ]
  },
  {
   "cell_type": "code",
   "execution_count": 101,
   "id": "43bc57f7-0b3d-4309-b834-d8795d6dbd1e",
   "metadata": {},
   "outputs": [],
   "source": [
    "try:\n",
    "    result = int(\"text\")\n",
    "except ValueError:\n",
    "    result = 0  # Avoid using exception for this purpose\n"
   ]
  },
  {
   "cell_type": "markdown",
   "id": "4a89e436-310d-4c7a-aa6e-335383d70e69",
   "metadata": {},
   "source": [
    "    Good Practice"
   ]
  },
  {
   "cell_type": "code",
   "execution_count": 104,
   "id": "64066ff8-9f03-469c-9110-34b8eea672e4",
   "metadata": {},
   "outputs": [],
   "source": [
    "text = \"text\"\n",
    "result = int(text) if text.isdigit() else 0\n"
   ]
  },
  {
   "cell_type": "markdown",
   "id": "7d7b9243-4fd1-4a7e-9287-d3bf06f04e92",
   "metadata": {},
   "source": [
    "    (10). Use Exception Hierarchy Effectively\n",
    "    Leverage Python’s exception hierarchy to catch related errors with a parent exception class."
   ]
  },
  {
   "cell_type": "code",
   "execution_count": 109,
   "id": "dde8dd8c-f1bd-4039-8449-68e63a9d590e",
   "metadata": {},
   "outputs": [
    {
     "name": "stdout",
     "output_type": "stream",
     "text": [
      "LookupError: 'b'\n"
     ]
    }
   ],
   "source": [
    "try:\n",
    "    result = {\"a\": 1}[\"b\"]\n",
    "except LookupError as e:  # Catches KeyError and IndexError\n",
    "    print(f\"LookupError: {e}\")\n"
   ]
  },
  {
   "cell_type": "markdown",
   "id": "dfc23646-c2f0-41cf-828c-57bd921f36c4",
   "metadata": {},
   "source": [
    "    (11). Test Exception Scenarios\n",
    "    Write test cases to ensure exceptions are raised and handled correctly in your code."
   ]
  },
  {
   "cell_type": "code",
   "execution_count": 118,
   "id": "1e7ce092-4be3-452b-840c-b26e19875e31",
   "metadata": {},
   "outputs": [],
   "source": [
    "import pytest\n",
    "\n",
    "def test_divide():\n",
    "    with pytest.raises(ValueError):\n",
    "        divide(10, 0)\n"
   ]
  },
  {
   "cell_type": "code",
   "execution_count": null,
   "id": "f7509c07-5c9a-43a9-afc2-4460b126c362",
   "metadata": {},
   "outputs": [],
   "source": []
  }
 ],
 "metadata": {
  "kernelspec": {
   "display_name": "Python 3 (ipykernel)",
   "language": "python",
   "name": "python3"
  },
  "language_info": {
   "codemirror_mode": {
    "name": "ipython",
    "version": 3
   },
   "file_extension": ".py",
   "mimetype": "text/x-python",
   "name": "python",
   "nbconvert_exporter": "python",
   "pygments_lexer": "ipython3",
   "version": "3.11.7"
  }
 },
 "nbformat": 4,
 "nbformat_minor": 5
}
